{
 "cells": [
  {
   "cell_type": "code",
   "execution_count": 1,
   "id": "3ac7e37f",
   "metadata": {},
   "outputs": [],
   "source": [
    "import pandas as pd\n",
    "import numpy as np\n",
    "import matplotlib.pyplot as plt\n",
    "import seaborn as sns\n",
    "from sklearn.model_selection import train_test_split\n",
    "from sklearn.preprocessing import StandardScaler\n",
    "from sklearn.linear_model import LinearRegression\n",
    "from sklearn.linear_model import Lasso\n",
    "from sklearn.linear_model import Ridge\n",
    "from sklearn.metrics import mean_squared_error,r2_score\n",
    "from sklearn.ensemble import RandomForestRegressor"
   ]
  },
  {
   "cell_type": "markdown",
   "id": "a029be62",
   "metadata": {},
   "source": [
    "# Reading the data and top rows"
   ]
  },
  {
   "cell_type": "code",
   "execution_count": 2,
   "id": "7c730e0b",
   "metadata": {},
   "outputs": [],
   "source": [
    "Cardataset = pd.read_csv(\"C:\\DataisGood\\Internship\\car data.csv\")"
   ]
  },
  {
   "cell_type": "code",
   "execution_count": 3,
   "id": "ac5e9cbb",
   "metadata": {},
   "outputs": [
    {
     "data": {
      "text/html": [
       "<div>\n",
       "<style scoped>\n",
       "    .dataframe tbody tr th:only-of-type {\n",
       "        vertical-align: middle;\n",
       "    }\n",
       "\n",
       "    .dataframe tbody tr th {\n",
       "        vertical-align: top;\n",
       "    }\n",
       "\n",
       "    .dataframe thead th {\n",
       "        text-align: right;\n",
       "    }\n",
       "</style>\n",
       "<table border=\"1\" class=\"dataframe\">\n",
       "  <thead>\n",
       "    <tr style=\"text-align: right;\">\n",
       "      <th></th>\n",
       "      <th>Car_Name</th>\n",
       "      <th>Year</th>\n",
       "      <th>Selling_Price</th>\n",
       "      <th>Present_Price</th>\n",
       "      <th>Kms_Driven</th>\n",
       "      <th>Fuel_Type</th>\n",
       "      <th>Seller_Type</th>\n",
       "      <th>Transmission</th>\n",
       "      <th>Owner</th>\n",
       "    </tr>\n",
       "  </thead>\n",
       "  <tbody>\n",
       "    <tr>\n",
       "      <th>0</th>\n",
       "      <td>ritz</td>\n",
       "      <td>2014</td>\n",
       "      <td>3.35</td>\n",
       "      <td>5.59</td>\n",
       "      <td>27000</td>\n",
       "      <td>Petrol</td>\n",
       "      <td>Dealer</td>\n",
       "      <td>Manual</td>\n",
       "      <td>0</td>\n",
       "    </tr>\n",
       "    <tr>\n",
       "      <th>1</th>\n",
       "      <td>sx4</td>\n",
       "      <td>2013</td>\n",
       "      <td>4.75</td>\n",
       "      <td>9.54</td>\n",
       "      <td>43000</td>\n",
       "      <td>Diesel</td>\n",
       "      <td>Dealer</td>\n",
       "      <td>Manual</td>\n",
       "      <td>0</td>\n",
       "    </tr>\n",
       "    <tr>\n",
       "      <th>2</th>\n",
       "      <td>ciaz</td>\n",
       "      <td>2017</td>\n",
       "      <td>7.25</td>\n",
       "      <td>9.85</td>\n",
       "      <td>6900</td>\n",
       "      <td>Petrol</td>\n",
       "      <td>Dealer</td>\n",
       "      <td>Manual</td>\n",
       "      <td>0</td>\n",
       "    </tr>\n",
       "    <tr>\n",
       "      <th>3</th>\n",
       "      <td>wagon r</td>\n",
       "      <td>2011</td>\n",
       "      <td>2.85</td>\n",
       "      <td>4.15</td>\n",
       "      <td>5200</td>\n",
       "      <td>Petrol</td>\n",
       "      <td>Dealer</td>\n",
       "      <td>Manual</td>\n",
       "      <td>0</td>\n",
       "    </tr>\n",
       "    <tr>\n",
       "      <th>4</th>\n",
       "      <td>swift</td>\n",
       "      <td>2014</td>\n",
       "      <td>4.60</td>\n",
       "      <td>6.87</td>\n",
       "      <td>42450</td>\n",
       "      <td>Diesel</td>\n",
       "      <td>Dealer</td>\n",
       "      <td>Manual</td>\n",
       "      <td>0</td>\n",
       "    </tr>\n",
       "  </tbody>\n",
       "</table>\n",
       "</div>"
      ],
      "text/plain": [
       "  Car_Name  Year  Selling_Price  Present_Price  Kms_Driven Fuel_Type  \\\n",
       "0     ritz  2014           3.35           5.59       27000    Petrol   \n",
       "1      sx4  2013           4.75           9.54       43000    Diesel   \n",
       "2     ciaz  2017           7.25           9.85        6900    Petrol   \n",
       "3  wagon r  2011           2.85           4.15        5200    Petrol   \n",
       "4    swift  2014           4.60           6.87       42450    Diesel   \n",
       "\n",
       "  Seller_Type Transmission  Owner  \n",
       "0      Dealer       Manual      0  \n",
       "1      Dealer       Manual      0  \n",
       "2      Dealer       Manual      0  \n",
       "3      Dealer       Manual      0  \n",
       "4      Dealer       Manual      0  "
      ]
     },
     "execution_count": 3,
     "metadata": {},
     "output_type": "execute_result"
    }
   ],
   "source": [
    "Cardataset.head()"
   ]
  },
  {
   "cell_type": "code",
   "execution_count": 4,
   "id": "b272f362",
   "metadata": {},
   "outputs": [
    {
     "name": "stdout",
     "output_type": "stream",
     "text": [
      "<class 'pandas.core.frame.DataFrame'>\n",
      "RangeIndex: 301 entries, 0 to 300\n",
      "Data columns (total 9 columns):\n",
      " #   Column         Non-Null Count  Dtype  \n",
      "---  ------         --------------  -----  \n",
      " 0   Car_Name       301 non-null    object \n",
      " 1   Year           301 non-null    int64  \n",
      " 2   Selling_Price  301 non-null    float64\n",
      " 3   Present_Price  301 non-null    float64\n",
      " 4   Kms_Driven     301 non-null    int64  \n",
      " 5   Fuel_Type      301 non-null    object \n",
      " 6   Seller_Type    301 non-null    object \n",
      " 7   Transmission   301 non-null    object \n",
      " 8   Owner          301 non-null    int64  \n",
      "dtypes: float64(2), int64(3), object(4)\n",
      "memory usage: 21.3+ KB\n"
     ]
    }
   ],
   "source": [
    "Cardataset.info()"
   ]
  },
  {
   "cell_type": "code",
   "execution_count": 5,
   "id": "50804e67",
   "metadata": {},
   "outputs": [],
   "source": [
    "#No of data available in the dataset 301 rows and 9 features and checking missing values"
   ]
  },
  {
   "cell_type": "code",
   "execution_count": 6,
   "id": "fa2cea12",
   "metadata": {},
   "outputs": [
    {
     "data": {
      "text/plain": [
       "Car_Name         0\n",
       "Year             0\n",
       "Selling_Price    0\n",
       "Present_Price    0\n",
       "Kms_Driven       0\n",
       "Fuel_Type        0\n",
       "Seller_Type      0\n",
       "Transmission     0\n",
       "Owner            0\n",
       "dtype: int64"
      ]
     },
     "execution_count": 6,
     "metadata": {},
     "output_type": "execute_result"
    }
   ],
   "source": [
    "Cardataset.shape\n",
    "Cardataset.isnull().sum()"
   ]
  },
  {
   "cell_type": "code",
   "execution_count": 7,
   "id": "8022925b",
   "metadata": {},
   "outputs": [],
   "source": [
    "  # To find the number of categories under different headings"
   ]
  },
  {
   "cell_type": "code",
   "execution_count": 8,
   "id": "94ede1eb",
   "metadata": {},
   "outputs": [
    {
     "name": "stdout",
     "output_type": "stream",
     "text": [
      "Fuel TYPE.............. Petrol    239\n",
      "Diesel     60\n",
      "CNG         2\n",
      "Name: Fuel_Type, dtype: int64\n",
      "Seller_Type............ Dealer        195\n",
      "Individual    106\n",
      "Name: Seller_Type, dtype: int64\n",
      "Transmission........... Manual       261\n",
      "Automatic     40\n",
      "Name: Transmission, dtype: int64\n"
     ]
    }
   ],
   "source": [
    "print(\"Fuel TYPE..............\" ,Cardataset.Fuel_Type.value_counts())\n",
    "print(\"Seller_Type............\",Cardataset.Seller_Type.value_counts())\n",
    "print(\"Transmission...........\", Cardataset.Transmission.value_counts())"
   ]
  },
  {
   "cell_type": "code",
   "execution_count": 9,
   "id": "c2bb7d6f",
   "metadata": {},
   "outputs": [],
   "source": [
    "# Coding of data .. Fuel Type Petrol is indicated with 0, Diesel:1, CNG :2\n"
   ]
  },
  {
   "cell_type": "code",
   "execution_count": 10,
   "id": "8a4f9f3d",
   "metadata": {},
   "outputs": [],
   "source": [
    "Cardataset.replace({'Fuel_Type':{'Petrol':0,'Diesel':1,'CNG':2}},inplace=True)"
   ]
  },
  {
   "cell_type": "code",
   "execution_count": 11,
   "id": "70e58626",
   "metadata": {},
   "outputs": [
    {
     "name": "stdout",
     "output_type": "stream",
     "text": [
      "0      0\n",
      "1      1\n",
      "2      0\n",
      "3      0\n",
      "4      1\n",
      "      ..\n",
      "296    1\n",
      "297    0\n",
      "298    0\n",
      "299    1\n",
      "300    0\n",
      "Name: Fuel_Type, Length: 301, dtype: int64\n"
     ]
    }
   ],
   "source": [
    "print(Cardataset.Fuel_Type)"
   ]
  },
  {
   "cell_type": "code",
   "execution_count": 12,
   "id": "bd6b2f98",
   "metadata": {},
   "outputs": [],
   "source": [
    "# Coding of data .. Seller_Type  Dealer':0,'Individual':1"
   ]
  },
  {
   "cell_type": "code",
   "execution_count": 13,
   "id": "3768ee2a",
   "metadata": {},
   "outputs": [
    {
     "name": "stdout",
     "output_type": "stream",
     "text": [
      "0      0\n",
      "1      0\n",
      "2      0\n",
      "3      0\n",
      "4      0\n",
      "      ..\n",
      "296    0\n",
      "297    0\n",
      "298    0\n",
      "299    0\n",
      "300    0\n",
      "Name: Seller_Type, Length: 301, dtype: int64\n"
     ]
    }
   ],
   "source": [
    "Cardataset.replace({'Seller_Type':{'Dealer':0,'Individual':1}},inplace=True)\n",
    "print(Cardataset.Seller_Type)"
   ]
  },
  {
   "cell_type": "code",
   "execution_count": 14,
   "id": "cddccf2f",
   "metadata": {},
   "outputs": [],
   "source": [
    "# Coding of data .. Transmission  Manual is indicated with 0, Automatic:1)"
   ]
  },
  {
   "cell_type": "code",
   "execution_count": 15,
   "id": "ca4f1cee",
   "metadata": {},
   "outputs": [
    {
     "name": "stdout",
     "output_type": "stream",
     "text": [
      "0      0\n",
      "1      0\n",
      "2      0\n",
      "3      0\n",
      "4      0\n",
      "      ..\n",
      "296    0\n",
      "297    0\n",
      "298    0\n",
      "299    0\n",
      "300    0\n",
      "Name: Transmission, Length: 301, dtype: int64\n"
     ]
    }
   ],
   "source": [
    "Cardataset.replace({'Transmission':{'Manual':0,'Automatic':1}},inplace=True)\n",
    "print(Cardataset.Transmission)"
   ]
  },
  {
   "cell_type": "code",
   "execution_count": 16,
   "id": "06cbd57b",
   "metadata": {},
   "outputs": [
    {
     "data": {
      "text/html": [
       "<div>\n",
       "<style scoped>\n",
       "    .dataframe tbody tr th:only-of-type {\n",
       "        vertical-align: middle;\n",
       "    }\n",
       "\n",
       "    .dataframe tbody tr th {\n",
       "        vertical-align: top;\n",
       "    }\n",
       "\n",
       "    .dataframe thead th {\n",
       "        text-align: right;\n",
       "    }\n",
       "</style>\n",
       "<table border=\"1\" class=\"dataframe\">\n",
       "  <thead>\n",
       "    <tr style=\"text-align: right;\">\n",
       "      <th></th>\n",
       "      <th>Car_Name</th>\n",
       "      <th>Year</th>\n",
       "      <th>Selling_Price</th>\n",
       "      <th>Present_Price</th>\n",
       "      <th>Kms_Driven</th>\n",
       "      <th>Fuel_Type</th>\n",
       "      <th>Seller_Type</th>\n",
       "      <th>Transmission</th>\n",
       "      <th>Owner</th>\n",
       "    </tr>\n",
       "  </thead>\n",
       "  <tbody>\n",
       "    <tr>\n",
       "      <th>0</th>\n",
       "      <td>ritz</td>\n",
       "      <td>2014</td>\n",
       "      <td>3.35</td>\n",
       "      <td>5.59</td>\n",
       "      <td>27000</td>\n",
       "      <td>0</td>\n",
       "      <td>0</td>\n",
       "      <td>0</td>\n",
       "      <td>0</td>\n",
       "    </tr>\n",
       "    <tr>\n",
       "      <th>1</th>\n",
       "      <td>sx4</td>\n",
       "      <td>2013</td>\n",
       "      <td>4.75</td>\n",
       "      <td>9.54</td>\n",
       "      <td>43000</td>\n",
       "      <td>1</td>\n",
       "      <td>0</td>\n",
       "      <td>0</td>\n",
       "      <td>0</td>\n",
       "    </tr>\n",
       "    <tr>\n",
       "      <th>2</th>\n",
       "      <td>ciaz</td>\n",
       "      <td>2017</td>\n",
       "      <td>7.25</td>\n",
       "      <td>9.85</td>\n",
       "      <td>6900</td>\n",
       "      <td>0</td>\n",
       "      <td>0</td>\n",
       "      <td>0</td>\n",
       "      <td>0</td>\n",
       "    </tr>\n",
       "    <tr>\n",
       "      <th>3</th>\n",
       "      <td>wagon r</td>\n",
       "      <td>2011</td>\n",
       "      <td>2.85</td>\n",
       "      <td>4.15</td>\n",
       "      <td>5200</td>\n",
       "      <td>0</td>\n",
       "      <td>0</td>\n",
       "      <td>0</td>\n",
       "      <td>0</td>\n",
       "    </tr>\n",
       "    <tr>\n",
       "      <th>4</th>\n",
       "      <td>swift</td>\n",
       "      <td>2014</td>\n",
       "      <td>4.60</td>\n",
       "      <td>6.87</td>\n",
       "      <td>42450</td>\n",
       "      <td>1</td>\n",
       "      <td>0</td>\n",
       "      <td>0</td>\n",
       "      <td>0</td>\n",
       "    </tr>\n",
       "  </tbody>\n",
       "</table>\n",
       "</div>"
      ],
      "text/plain": [
       "  Car_Name  Year  Selling_Price  Present_Price  Kms_Driven  Fuel_Type  \\\n",
       "0     ritz  2014           3.35           5.59       27000          0   \n",
       "1      sx4  2013           4.75           9.54       43000          1   \n",
       "2     ciaz  2017           7.25           9.85        6900          0   \n",
       "3  wagon r  2011           2.85           4.15        5200          0   \n",
       "4    swift  2014           4.60           6.87       42450          1   \n",
       "\n",
       "   Seller_Type  Transmission  Owner  \n",
       "0            0             0      0  \n",
       "1            0             0      0  \n",
       "2            0             0      0  \n",
       "3            0             0      0  \n",
       "4            0             0      0  "
      ]
     },
     "execution_count": 16,
     "metadata": {},
     "output_type": "execute_result"
    }
   ],
   "source": [
    "Cardataset.head()"
   ]
  },
  {
   "cell_type": "code",
   "execution_count": 17,
   "id": "e85a4e78",
   "metadata": {},
   "outputs": [],
   "source": [
    "#Splitting data to  identify the dependent and independent variable\n",
    "# Objective is to predict the selling price X is idependent data"
   ]
  },
  {
   "cell_type": "code",
   "execution_count": 18,
   "id": "85356720",
   "metadata": {},
   "outputs": [
    {
     "name": "stdout",
     "output_type": "stream",
     "text": [
      "Independent Variables: \n",
      "      Year  Present_Price  Kms_Driven  Fuel_Type  Seller_Type  Transmission  \\\n",
      "0    2014           5.59       27000          0            0             0   \n",
      "1    2013           9.54       43000          1            0             0   \n",
      "2    2017           9.85        6900          0            0             0   \n",
      "3    2011           4.15        5200          0            0             0   \n",
      "4    2014           6.87       42450          1            0             0   \n",
      "..    ...            ...         ...        ...          ...           ...   \n",
      "296  2016          11.60       33988          1            0             0   \n",
      "297  2015           5.90       60000          0            0             0   \n",
      "298  2009          11.00       87934          0            0             0   \n",
      "299  2017          12.50        9000          1            0             0   \n",
      "300  2016           5.90        5464          0            0             0   \n",
      "\n",
      "     Owner  \n",
      "0        0  \n",
      "1        0  \n",
      "2        0  \n",
      "3        0  \n",
      "4        0  \n",
      "..     ...  \n",
      "296      0  \n",
      "297      0  \n",
      "298      0  \n",
      "299      0  \n",
      "300      0  \n",
      "\n",
      "[301 rows x 7 columns]\n",
      "Dependent Variables: \n",
      " 0       3.35\n",
      "1       4.75\n",
      "2       7.25\n",
      "3       2.85\n",
      "4       4.60\n",
      "       ...  \n",
      "296     9.50\n",
      "297     4.00\n",
      "298     3.35\n",
      "299    11.50\n",
      "300     5.30\n",
      "Name: Selling_Price, Length: 301, dtype: float64\n"
     ]
    }
   ],
   "source": [
    "X =Cardataset.drop(['Car_Name','Selling_Price'],axis=1)\n",
    "print(\"Independent Variables: \\n\", X)\n",
    "Y=Cardataset['Selling_Price']\n",
    "print(\"Dependent Variables: \\n\",Y)"
   ]
  },
  {
   "cell_type": "code",
   "execution_count": 19,
   "id": "4b2edc21",
   "metadata": {},
   "outputs": [
    {
     "name": "stderr",
     "output_type": "stream",
     "text": [
      "C:\\Users\\ashma\\anaconda3\\lib\\site-packages\\seaborn\\distributions.py:2619: FutureWarning: `distplot` is a deprecated function and will be removed in a future version. Please adapt your code to use either `displot` (a figure-level function with similar flexibility) or `histplot` (an axes-level function for histograms).\n",
      "  warnings.warn(msg, FutureWarning)\n"
     ]
    },
    {
     "data": {
      "image/png": "[encoded data removed]",
      "text/plain": [
       "<Figure size 640x480 with 1 Axes>"
      ]
     },
     "metadata": {},
     "output_type": "display_data"
    }
   ],
   "source": [
    "sns.distplot(Cardataset.Selling_Price)\n",
    "plt.show()"
   ]
  },
  {
   "cell_type": "code",
   "execution_count": 20,
   "id": "8b085f63",
   "metadata": {},
   "outputs": [],
   "source": [
    "# Splitting the data to Target and Test"
   ]
  },
  {
   "cell_type": "code",
   "execution_count": 21,
   "id": "c6f3ba48",
   "metadata": {},
   "outputs": [
    {
     "data": {
      "text/plain": [
       "LinearRegression()"
      ]
     },
     "execution_count": 21,
     "metadata": {},
     "output_type": "execute_result"
    }
   ],
   "source": [
    "X_train, X_test, y_train, y_test = train_test_split(X, Y, random_state=0, test_size=0.2)\n",
    "# 1st ML Algorithm since its to predict selling price will apply LR\n",
    "linearModelSelling =LinearRegression()\n",
    "linearModelSelling.fit(X_train,y_train)"
   ]
  },
  {
   "cell_type": "code",
   "execution_count": 22,
   "id": "ad80c7de",
   "metadata": {},
   "outputs": [
    {
     "name": "stdout",
     "output_type": "stream",
     "text": [
      "[ 6.43468913e+00  2.56619707e+00  2.13929150e+01  4.33510335e+00\n",
      "  5.62498745e+00  8.76938078e+00  7.36962478e+00  3.25808964e+00\n",
      "  2.62664818e+00  3.91991750e+00  2.93568875e+00  1.79283628e+00\n",
      "  6.45576750e+00 -1.85395928e+00  4.34903275e+00  6.87786826e-01\n",
      "  8.11013360e+00 -3.59329965e+00  2.91574408e+00  1.37061766e+00\n",
      "  1.08158793e+01  5.75643820e+00  6.41139766e+00  5.40416151e+00\n",
      "  4.94658036e-01  6.13272195e+00  7.16923008e+00 -1.09304412e-01\n",
      "  4.87849789e+00  1.11471918e+00  5.88343257e+00  7.43510298e+00\n",
      "  1.66225000e+00  5.92054051e+00 -1.23623092e+00  7.66793385e-01\n",
      " -4.68201893e-01  2.29624869e+00  8.57263107e-01  4.88446925e+00\n",
      "  6.85501416e+00  5.49711325e-01  6.18346958e+00  3.42262192e-01\n",
      "  2.01189712e+00  7.01536691e+00  2.80349868e+00  5.84655706e+00\n",
      "  2.57423028e+00  8.21021183e+00  4.18435352e+00  1.74899448e+00\n",
      "  6.60928262e-01  7.08850355e+00  9.05203564e+00  1.89316897e+00\n",
      "  6.24278769e+00  9.06068809e+00  1.05963600e+00  1.44798218e+00\n",
      "  1.95591318e+00  5.20494378e+00  7.66884520e+00  1.02243545e+00\n",
      "  7.86608336e+00  4.89168369e+00  4.71134511e+00  2.18572683e+00\n",
      "  4.42572399e+00  4.20163942e+00  5.75770291e+00  1.61411850e+01\n",
      "  2.86761953e-01  5.07913405e+00  1.00258313e+01  1.14277360e+00\n",
      " -2.89281673e+00  2.19250329e-01  4.43652476e+00  7.07238439e+00\n",
      "  8.09886979e-02  5.16352772e+00  6.06501809e-01 -1.68368442e+00\n",
      "  2.15288588e+00  3.24327786e+00 -9.91869523e-01  2.76809432e+00\n",
      "  4.53460876e+00  3.71040234e+00  5.97807912e+00  1.83987699e-01\n",
      "  3.23372742e+00  7.99855704e+00  4.79638682e+00  7.77380375e+00\n",
      "  1.01512849e+01  1.79674019e+01  6.98786421e+00  8.94858715e+00\n",
      "  2.22357915e+00  1.14693011e+00  4.14237318e+01  4.28512937e+00\n",
      " -1.85978806e+00  3.31040923e+00  3.02875027e+00  2.30752691e+00\n",
      "  3.24163211e+00  1.64346443e+01  3.16071443e+00  6.74617638e+00\n",
      "  4.20599155e-01  4.35524530e+00  1.97022617e+01 -3.15974900e+00\n",
      "  5.98088479e+00  1.92375485e+00  4.09092005e+00  6.20273194e+00\n",
      "  6.25901283e+00  1.36762165e+00  1.50921641e+00 -2.35922098e+00\n",
      "  4.44809711e+00  1.49040722e+00  1.43594160e+00  5.55746718e+00\n",
      "  9.03326436e+00  4.66877187e+00  1.79674019e+01  5.76965234e+00\n",
      " -6.02652219e-03  4.81595535e+00  1.98757123e+00  1.63090814e+00\n",
      "  3.83981246e+00  1.00879226e+01  7.74180242e+00  8.49255154e+00\n",
      "  4.18672690e+00  4.25265559e+00  4.43079789e+00  1.13963083e+01\n",
      "  8.01653845e+00  5.16424088e+00  5.33833380e+00  3.90467688e+00\n",
      "  1.45122380e+00  5.67596791e+00  2.80953069e+00  2.99850609e+00\n",
      " -9.80365859e-01  1.44125938e+00  1.09443163e+01 -4.65209969e-01\n",
      "  2.02476511e+00  3.71889550e+00  1.07833282e+00  5.15317459e+00\n",
      "  9.57716003e+00 -3.00668963e+00  5.38206193e+00  5.88584369e+00\n",
      "  2.08461808e+00  4.25287047e+00 -2.65131321e-02 -1.34252989e-01\n",
      "  3.82256484e-01  7.65664019e+00  9.54004557e+00  1.02672095e+00\n",
      "  7.74070525e+00  9.69670669e+00  1.66105818e+01  3.67692609e+00\n",
      "  7.63593014e+00  8.33813894e-01  2.35947993e+00  6.36214311e+00\n",
      "  7.79748656e+00  9.78022597e-01  6.74694440e+00  5.77864361e+00\n",
      "  6.52786598e+00  1.73051654e+00  4.41155989e+00  4.00733446e-01\n",
      "  1.99530812e+00  1.73479617e+00  1.99982827e+00  1.65208104e+01\n",
      "  8.25142614e+00  4.77658310e+00  9.76496703e+00  3.91881397e+00\n",
      "  1.55402867e+01  4.40577781e+00  1.96764159e+00  1.45714278e+00\n",
      "  1.23868172e-01 -8.77254485e-01  1.28172453e+00  6.43382412e+00\n",
      "  4.27385271e+00  2.20717836e+00  6.04733345e+00  1.52253976e+00\n",
      " -2.47994037e-01  7.26513133e+00  6.15461013e+00  8.67631499e-01\n",
      "  5.93419237e+00  2.76716314e+00  1.00750722e+01 -1.10228233e+00\n",
      "  5.61232561e+00  1.36487873e+00  6.40730368e+00  8.97291461e+00\n",
      "  2.43845618e+00  2.88298185e+00  7.69133266e+00  9.21662456e-01\n",
      "  4.23736139e+00  3.72784014e-01 -8.03220418e-01  3.53834573e+00\n",
      "  5.55305389e+00  6.45398572e+00  4.47380633e+00  7.75836966e+00\n",
      "  9.60237607e+00  7.04582426e+00  7.66763499e-01  5.16611449e+00\n",
      " -3.25227487e+00  1.57182577e+00 -1.38142849e-01  6.30735285e-01]\n"
     ]
    }
   ],
   "source": [
    "trainingdata_predict = linearModelSelling.predict(X_train)\n",
    "print(trainingdata_predict)"
   ]
  },
  {
   "cell_type": "code",
   "execution_count": 23,
   "id": "8683831f",
   "metadata": {},
   "outputs": [],
   "source": [
    "RvalueInModel_r2 = r2_score(y_train,trainingdata_predict)"
   ]
  },
  {
   "cell_type": "code",
   "execution_count": 24,
   "id": "ead4ff09",
   "metadata": {},
   "outputs": [
    {
     "name": "stdout",
     "output_type": "stream",
     "text": [
      "R Square Value 0.8684260777667914\n"
     ]
    }
   ],
   "source": [
    "print(\"R Square Value\",RvalueInModel_r2)"
   ]
  },
  {
   "cell_type": "code",
   "execution_count": 25,
   "id": "0e98ade0",
   "metadata": {},
   "outputs": [
    {
     "name": "stdout",
     "output_type": "stream",
     "text": [
      "MSE Square Value 3.3907783842564263\n"
     ]
    }
   ],
   "source": [
    "ErrorInModel_mse =mean_squared_error(y_train,trainingdata_predict)\n",
    "print(\"MSE Square Value\",ErrorInModel_mse)"
   ]
  },
  {
   "cell_type": "code",
   "execution_count": 26,
   "id": "dbf0bc5e",
   "metadata": {},
   "outputs": [
    {
     "name": "stdout",
     "output_type": "stream",
     "text": [
      "Scatter Plot on Trained Data \n",
      "\n"
     ]
    },
    {
     "data": {
      "image/png": "[encoded data removed]",
      "text/plain": [
       "<Figure size 640x480 with 1 Axes>"
      ]
     },
     "metadata": {},
     "output_type": "display_data"
    }
   ],
   "source": [
    "print (\"Scatter Plot on Trained Data \\n\")\n",
    "plt.scatter(y_train,trainingdata_predict)\n",
    "plt.title (\"Actual Vs Predicetd\")\n",
    "plt.xlabel(\"Actual Price\")\n",
    "plt.ylabel(\"Predicted Price\")\n",
    "plt.show()\n"
   ]
  },
  {
   "cell_type": "code",
   "execution_count": 27,
   "id": "b2069e14",
   "metadata": {},
   "outputs": [],
   "source": [
    "Testdata_predict = linearModelSelling.predict(X_test)"
   ]
  },
  {
   "cell_type": "code",
   "execution_count": 28,
   "id": "9368c9e3",
   "metadata": {},
   "outputs": [],
   "source": [
    "r_Train_R2 = r2_score(y_test,Testdata_predict)"
   ]
  },
  {
   "cell_type": "code",
   "execution_count": 29,
   "id": "bdbbcb73",
   "metadata": {},
   "outputs": [
    {
     "name": "stdout",
     "output_type": "stream",
     "text": [
      "R Square Value for the Test Data 0.9134181721224199\n"
     ]
    }
   ],
   "source": [
    "print(\"R Square Value for the Test Data\", r_Train_R2)"
   ]
  },
  {
   "cell_type": "code",
   "execution_count": 30,
   "id": "9108dc3f",
   "metadata": {},
   "outputs": [],
   "source": [
    "ErrorInModel_Train_MSE = mean_squared_error(y_test,Testdata_predict)"
   ]
  },
  {
   "cell_type": "code",
   "execution_count": 31,
   "id": "84c19f39",
   "metadata": {},
   "outputs": [
    {
     "name": "stdout",
     "output_type": "stream",
     "text": [
      "Mean Square Error for the Test Data  \n",
      " 2.1885564456584663\n"
     ]
    }
   ],
   "source": [
    "print(\"Mean Square Error for the Test Data  \\n\", ErrorInModel_Train_MSE)"
   ]
  },
  {
   "cell_type": "code",
   "execution_count": 32,
   "id": "c4b71ee5",
   "metadata": {},
   "outputs": [
    {
     "name": "stdout",
     "output_type": "stream",
     "text": [
      "Scatter Plot on Trained Data \n",
      "\n"
     ]
    },
    {
     "data": {
      "image/png": "[encoded data removed]",
      "text/plain": [
       "<Figure size 640x480 with 1 Axes>"
      ]
     },
     "metadata": {},
     "output_type": "display_data"
    }
   ],
   "source": [
    "print (\"Scatter Plot on Trained Data \\n\")\n",
    "plt.scatter(y_test,Testdata_predict)\n",
    "#plt.plot(y_test,Testdata_predict,color=\"blue\", linewidth=3)\n",
    "plt.title (\"Actual Test  Vs test Predicetd\")\n",
    "plt.xlabel(\"Actual test Price\")\n",
    "plt.ylabel(\"Predicted train Price\")\n",
    "#plt.xticks(())\n",
    "#plt.yticks(())\n",
    "plt.show()"
   ]
  },
  {
   "cell_type": "code",
   "execution_count": 33,
   "id": "df645572",
   "metadata": {},
   "outputs": [],
   "source": [
    "#lasso regression\n",
    "\n",
    "#Ridge and Lasso regression are some of the simple techniques to reduce model complexity and prevent over-fitting which may result from simple linear regression."
   ]
  },
  {
   "cell_type": "code",
   "execution_count": 34,
   "id": "78eaf513",
   "metadata": {},
   "outputs": [],
   "source": [
    "lasso_reg = Lasso(alpha=0.2)"
   ]
  },
  {
   "cell_type": "code",
   "execution_count": 35,
   "id": "2353e70e",
   "metadata": {},
   "outputs": [
    {
     "name": "stdout",
     "output_type": "stream",
     "text": [
      "Lasso model: [ 4.20621798e-01  6.39420696e-01 -1.27367555e-05  0.00000000e+00\n",
      " -0.00000000e+00 -0.00000000e+00  0.00000000e+00]\n"
     ]
    }
   ],
   "source": [
    "lasso_reg.fit(X_test,y_test)\n",
    "y_pred_lass =lasso_reg.predict(X_test)\n",
    "print (\"Lasso model:\", (lasso_reg.coef_))"
   ]
  },
  {
   "cell_type": "code",
   "execution_count": 36,
   "id": "15c98ba4",
   "metadata": {},
   "outputs": [
    {
     "name": "stdout",
     "output_type": "stream",
     "text": [
      "Lasso Score Train 0.8436983478122703\n",
      "Lasso Score Test 0.8893055014192671\n"
     ]
    }
   ],
   "source": [
    "lasso_reg.fit(X_train,y_train)\n",
    "#Predicting for X_test\n",
    "y_pred_lass =lasso_reg.predict(X_test)\n",
    "print(\"Lasso Score Train\",lasso_reg.score(X_train,y_train))\n",
    "print(\"Lasso Score Test\",lasso_reg.score(X_test,y_test))\n"
   ]
  },
  {
   "cell_type": "code",
   "execution_count": 37,
   "id": "dd68b6ff",
   "metadata": {},
   "outputs": [
    {
     "name": "stdout",
     "output_type": "stream",
     "text": [
      "Ridge model: [ 3.93422984e-01  4.37241299e-01 -5.43449699e-06  1.43266009e+00\n",
      " -1.11321771e+00  1.41487869e+00 -9.68131834e-01]\n",
      "Ridge Score Train 0.8684223285922801\n",
      "Ridge Score Test 0.9135150822372119\n"
     ]
    }
   ],
   "source": [
    "ridge = Ridge(alpha=.3)\n",
    "ridge.fit(X_train,y_train)\n",
    "Y_Pred_ridge = ridge.predict(X_test)\n",
    "print (\"Ridge model:\", (ridge.coef_))\n",
    "print(\"Ridge Score Train\",ridge.score(X_train,y_train))\n",
    "print(\"Ridge Score Test\",ridge.score(X_test,y_test))"
   ]
  },
  {
   "cell_type": "code",
   "execution_count": 40,
   "id": "d5c43fd5",
   "metadata": {},
   "outputs": [],
   "source": [
    "#Random Forest"
   ]
  },
  {
   "cell_type": "code",
   "execution_count": 41,
   "id": "e699c1ee",
   "metadata": {},
   "outputs": [
    {
     "name": "stdout",
     "output_type": "stream",
     "text": [
      "R square wrt RandomForest 0.9577976224999517\n"
     ]
    }
   ],
   "source": [
    "rf = RandomForestRegressor(n_estimators = 100)\n",
    "rf.fit(X_train, y_train)\n",
    "y_pred = rf.predict(X_test)\n",
    "print (\"R square wrt RandomForest\", r2_score(y_test, y_pred))"
   ]
  },
  {
   "cell_type": "code",
   "execution_count": 42,
   "id": "c5efa4dd",
   "metadata": {},
   "outputs": [
    {
     "name": "stdout",
     "output_type": "stream",
     "text": [
      "Lasso Score Test 0.8893055014192671\n",
      "Ridge Score Test 0.9135150822372119\n",
      "R square wrt RandomForest 0.9577976224999517\n",
      "R Square Value for the Test Data with regression 0.9134181721224199\n"
     ]
    }
   ],
   "source": [
    "print(\"Lasso Score Test\",lasso_reg.score(X_test,y_test))\n",
    "print(\"Ridge Score Test\",ridge.score(X_test,y_test))\n",
    "print (\"R square wrt RandomForest\", r2_score(y_test, y_pred))\n",
    "print(\"R Square Value for the Test Data with regression\", r_Train_R2)"
   ]
  },
  {
   "cell_type": "code",
   "execution_count": null,
   "id": "a39f9267",
   "metadata": {},
   "outputs": [],
   "source": [
    "#The Lasso Regression attained an accuracy of 89% with the given Dataset.\n",
    "#The Ridge Regression attained an accuracy of 91% with the given Dataset.\n",
    "# R square value obtained from RandonForest is better hence for the prediction of car selling price Random Forest method is suggested."
   ]
  }
 ],
 "metadata": {
  "kernelspec": {
   "display_name": "Python 3 (ipykernel)",
   "language": "python",
   "name": "python3"
  },
  "language_info": {
   "codemirror_mode": {
    "name": "ipython",
    "version": 3
   },
   "file_extension": ".py",
   "mimetype": "text/x-python",
   "name": "python",
   "nbconvert_exporter": "python",
   "pygments_lexer": "ipython3",
   "version": "3.9.13"
  }
 },
 "nbformat": 4,
 "nbformat_minor": 5
}
